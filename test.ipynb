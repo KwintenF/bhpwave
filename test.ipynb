{
 "cells": [
  {
   "cell_type": "code",
   "execution_count": 1,
   "metadata": {},
   "outputs": [],
   "source": [
    "from bhpwave.spline import CubicSpline, BicubicSpline, TricubicSpline\n",
    "import numpy as np"
   ]
  },
  {
   "cell_type": "code",
   "execution_count": 6,
   "metadata": {},
   "outputs": [],
   "source": [
    "x = np.linspace(0.5, 1, 257)\n",
    "y = np.linspace(-1, 1, 257)\n",
    "z = np.linspace(2, 3, 257)\n",
    "XYZ = np.meshgrid(x, y, z, indexing='ij')"
   ]
  },
  {
   "cell_type": "code",
   "execution_count": 7,
   "metadata": {},
   "outputs": [],
   "source": [
    "def test_func(x, y, z):\n",
    "    return np.sin(x)*np.cos(y)/(1-z**2)"
   ]
  },
  {
   "cell_type": "code",
   "execution_count": 8,
   "metadata": {},
   "outputs": [],
   "source": [
    "fvec = test_func(*XYZ)"
   ]
  },
  {
   "cell_type": "code",
   "execution_count": 9,
   "metadata": {},
   "outputs": [],
   "source": [
    "trispl = TricubicSpline(x, y, z, fvec)"
   ]
  },
  {
   "cell_type": "code",
   "execution_count": 10,
   "metadata": {},
   "outputs": [
    {
     "data": {
      "text/plain": [
       "9.819367541297197e-12"
      ]
     },
     "execution_count": 10,
     "metadata": {},
     "output_type": "execute_result"
    }
   ],
   "source": [
    "1-trispl(0.51, 0.4, 2.4)/test_func(0.51, 0.4, 2.4)"
   ]
  },
  {
   "attachments": {},
   "cell_type": "markdown",
   "metadata": {},
   "source": [
    "# Scratch"
   ]
  },
  {
   "cell_type": "code",
   "execution_count": 1,
   "metadata": {},
   "outputs": [],
   "source": [
    "from bhpwave.trajectory.inspiral import IntegrateInspiralGeneratorBase\n",
    "from bhpwave.trajectory.inspiral import TrajectoryData, InspiralGenerator\n",
    "import matplotlib.pyplot as plt\n",
    "import numpy as np"
   ]
  },
  {
   "cell_type": "code",
   "execution_count": 2,
   "metadata": {},
   "outputs": [],
   "source": [
    "traj = TrajectoryData()"
   ]
  },
  {
   "cell_type": "code",
   "execution_count": 3,
   "metadata": {},
   "outputs": [],
   "source": [
    "from bhpwave.trajectory.inspiral import spin_of_chi, omega_of_a_alpha, pn_flux_noprefactor\n",
    "from bhpwave.trajectory.geodesic import kerr_circ_geo_radius, kerr_isco_frequency, kerr_circ_geo_orbital_frequency"
   ]
  },
  {
   "cell_type": "code",
   "execution_count": 15,
   "metadata": {},
   "outputs": [],
   "source": [
    "def Edot_test(chi, alpha, R):\n",
    "    a = spin_of_chi(chi)\n",
    "    omega = omega_of_a_alpha(a, alpha)\n",
    "    r0 = kerr_circ_geo_radius(a, omega)\n",
    "    if traj.range_check(a, omega):\n",
    "        return traj.scaled_energy_flux(a, r0)/pn_flux_noprefactor(omega)*(1 - 0.5*R**2)\n",
    "    else:\n",
    "        return 0."
   ]
  },
  {
   "cell_type": "code",
   "execution_count": 16,
   "metadata": {},
   "outputs": [],
   "source": [
    "test_gen = IntegrateInspiralGeneratorBase(Edot_test)"
   ]
  },
  {
   "cell_type": "code",
   "execution_count": 17,
   "metadata": {},
   "outputs": [],
   "source": [
    "insp_gen = InspiralGenerator()"
   ]
  },
  {
   "cell_type": "code",
   "execution_count": 18,
   "metadata": {},
   "outputs": [],
   "source": [
    "insp = test_gen(10**6, 10, 0.99, 10., 6., 2., 0.)"
   ]
  },
  {
   "cell_type": "code",
   "execution_count": 19,
   "metadata": {},
   "outputs": [],
   "source": [
    "insp2 = insp_gen(10**6, 10, 0.99, 10., 6., 2)"
   ]
  },
  {
   "cell_type": "code",
   "execution_count": 20,
   "metadata": {},
   "outputs": [
    {
     "data": {
      "text/plain": [
       "[<matplotlib.lines.Line2D at 0x16bae3fa0>]"
      ]
     },
     "execution_count": 20,
     "metadata": {},
     "output_type": "execute_result"
    },
    {
     "data": {
      "image/png": "[encoded data removed]",
      "text/plain": [
       "<Figure size 640x480 with 1 Axes>"
      ]
     },
     "metadata": {},
     "output_type": "display_data"
    }
   ],
   "source": [
    "plt.plot(np.abs(1-insp2.radius[:insp.radius.size]/insp.radius[:insp2.radius.size]))\n",
    "plt.plot(insp2.phase[:insp.phase.size] - insp.phase[:insp2.phase.size])"
   ]
  },
  {
   "cell_type": "code",
   "execution_count": 21,
   "metadata": {},
   "outputs": [],
   "source": [
    "from bhpwave.waveform import KerrWaveform"
   ]
  },
  {
   "cell_type": "code",
   "execution_count": 22,
   "metadata": {},
   "outputs": [],
   "source": [
    "kerr_gen = KerrWaveform(trajectory_data=test_gen)"
   ]
  },
  {
   "cell_type": "code",
   "execution_count": 23,
   "metadata": {},
   "outputs": [],
   "source": [
    "kerr_gen_base = KerrWaveform()"
   ]
  },
  {
   "cell_type": "code",
   "execution_count": 24,
   "metadata": {},
   "outputs": [],
   "source": [
    "M = 1e6  # primary mass in solar masses\n",
    "mu = 3e1 # secondary mass in solar masses\n",
    "a = 0.9 # dimensionless spin of the primary\n",
    "p0 = 6.55 # initial semi-latus rectum\n",
    "e0 = 0.0 # eccentricity is ignored for circular orbits\n",
    "x0 = 1.0  # inclination is ignored for circular orbits\n",
    "qK = 0.8  # polar angle of Kerr spin angular momentum\n",
    "phiK = 0.2  # azimuthal angle of Kerr spin angular momentum\n",
    "qS = 0.3  # polar sky angle\n",
    "phiS = 0.3  # azimuthal sky angle\n",
    "dist = 2.0  # distance to source in Gpc\n",
    "Phi_phi0 = 0.2 # initial azimuthal position of the secondary\n",
    "Phi_theta0 = 0.0 # ignored for circular orbits\n",
    "Phi_r0 = 0.0 # ignored for circular orbits\n",
    "dt = 5.0  # time steps in seconds\n",
    "T = 1.0  # waveform duration in years\n",
    "\n",
    "injection_paramters = [M, mu, a, p0, e0, x0, \n",
    "                       dist, qS, phiS, qK, phiK, \n",
    "                       Phi_phi0, Phi_theta0, Phi_r0, \n",
    "                       dt, T]"
   ]
  },
  {
   "cell_type": "code",
   "execution_count": 29,
   "metadata": {},
   "outputs": [
    {
     "ename": "TypeError",
     "evalue": "KerrCircularWaveform.__call__() got multiple values for argument 'dt'",
     "output_type": "error",
     "traceback": [
      "\u001b[0;31m---------------------------------------------------------------------------\u001b[0m",
      "\u001b[0;31mTypeError\u001b[0m                                 Traceback (most recent call last)",
      "Cell \u001b[0;32mIn[29], line 1\u001b[0m\n\u001b[0;32m----> 1\u001b[0m h \u001b[39m=\u001b[39m kerr_gen(\u001b[39m*\u001b[39;49minjection_paramters, \u001b[39m*\u001b[39;49margs)\n\u001b[1;32m      2\u001b[0m h_base \u001b[39m=\u001b[39m kerr_gen_base(\u001b[39m*\u001b[39minjection_paramters)\n",
      "File \u001b[0;32m~/Documents/bhpwave/bhpwave/waveform.py:508\u001b[0m, in \u001b[0;36mKerrWaveform.__call__\u001b[0;34m(self, M, mu, a, p0, e0, x0, dist, qS, phiS, qK, phiK, Phi_phi0, Phi_r0, Phi_theta0, dt, T, *args, **kwargs)\u001b[0m\n\u001b[1;32m    459\u001b[0m \u001b[39m\u001b[39m\u001b[39m\"\"\"\u001b[39;00m\n\u001b[1;32m    460\u001b[0m \u001b[39mCalculate the gravitational wave strain\u001b[39;00m\n\u001b[1;32m    461\u001b[0m \n\u001b[0;32m   (...)\u001b[0m\n\u001b[1;32m    505\u001b[0m \n\u001b[1;32m    506\u001b[0m \u001b[39m\"\"\"\u001b[39;00m\n\u001b[1;32m    507\u001b[0m a, x0, qK, phiK, Phi_phi0 \u001b[39m=\u001b[39m check_ssb_frame_parameters(a, x0, qK, phiK, Phi_phi0)\n\u001b[0;32m--> 508\u001b[0m \u001b[39mreturn\u001b[39;00m \u001b[39msuper\u001b[39;49m()\u001b[39m.\u001b[39;49m\u001b[39m__call__\u001b[39;49m(M, mu, a, p0, dist, qS, phiS, qK, phiK, Phi_phi0, dt \u001b[39m=\u001b[39;49m dt, T \u001b[39m=\u001b[39;49m T, \u001b[39m*\u001b[39;49margs, \u001b[39m*\u001b[39;49m\u001b[39m*\u001b[39;49mkwargs)\n",
      "\u001b[0;31mTypeError\u001b[0m: KerrCircularWaveform.__call__() got multiple values for argument 'dt'"
     ]
    }
   ],
   "source": [
    "h = kerr_gen(*injection_paramters, 1.)\n",
    "h_base = kerr_gen_base(*injection_paramters)"
   ]
  },
  {
   "cell_type": "code",
   "execution_count": null,
   "metadata": {},
   "outputs": [],
   "source": []
  }
 ],
 "metadata": {
  "kernelspec": {
   "display_name": "full-env",
   "language": "python",
   "name": "python3"
  },
  "language_info": {
   "codemirror_mode": {
    "name": "ipython",
    "version": 3
   },
   "file_extension": ".py",
   "mimetype": "text/x-python",
   "name": "python",
   "nbconvert_exporter": "python",
   "pygments_lexer": "ipython3",
   "version": "3.10.12"
  },
  "orig_nbformat": 4,
  "vscode": {
   "interpreter": {
    "hash": "5046dd278bd9b99f2571d1145493fdd695bb04c8c23877305f7d9ebf063c8edf"
   }
  }
 },
 "nbformat": 4,
 "nbformat_minor": 2
}
