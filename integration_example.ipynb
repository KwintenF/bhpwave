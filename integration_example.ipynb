{
 "cells": [
  {
   "cell_type": "code",
   "execution_count": 3,
   "metadata": {},
   "outputs": [],
   "source": [
    "from bhpwave.trajectory.inspiral import IntegrateInspiralGeneratorBase\n",
    "from bhpwave.trajectory.inspiral import TrajectoryData, InspiralGenerator\n",
    "from bhpwave.waveform import KerrWaveform\n",
    "import matplotlib.pyplot as plt\n",
    "import numpy as np"
   ]
  },
  {
   "cell_type": "code",
   "execution_count": 4,
   "metadata": {},
   "outputs": [],
   "source": [
    "from bhpwave.trajectory.inspiral import spin_of_chi, omega_of_a_alpha, pn_flux_noprefactor\n",
    "from bhpwave.trajectory.geodesic import kerr_circ_geo_radius, kerr_isco_frequency, kerr_circ_geo_orbital_frequency"
   ]
  },
  {
   "cell_type": "code",
   "execution_count": 5,
   "metadata": {},
   "outputs": [],
   "source": [
    "traj = TrajectoryData()"
   ]
  },
  {
   "cell_type": "code",
   "execution_count": 6,
   "metadata": {},
   "outputs": [],
   "source": [
    "def Edot_test(chi, alpha, R):\n",
    "    a = spin_of_chi(chi)\n",
    "    omega = omega_of_a_alpha(a, alpha)\n",
    "    r0 = kerr_circ_geo_radius(a, omega)\n",
    "    if traj.range_check(a, omega):\n",
    "        return traj.scaled_energy_flux(a, r0)/pn_flux_noprefactor(omega)*(1 - 0.5*R**2)\n",
    "    else:\n",
    "        return 0."
   ]
  },
  {
   "cell_type": "code",
   "execution_count": 7,
   "metadata": {},
   "outputs": [],
   "source": [
    "test_gen = IntegrateInspiralGeneratorBase(Edot_test)"
   ]
  },
  {
   "cell_type": "code",
   "execution_count": 8,
   "metadata": {},
   "outputs": [],
   "source": [
    "kerr_gen_mod = KerrWaveform(trajectory_data=test_gen)"
   ]
  },
  {
   "cell_type": "code",
   "execution_count": 9,
   "metadata": {},
   "outputs": [],
   "source": [
    "kerr_gen_GR = KerrWaveform()"
   ]
  },
  {
   "cell_type": "code",
   "execution_count": 10,
   "metadata": {},
   "outputs": [],
   "source": [
    "M = 1e6  # primary mass in solar masses\n",
    "mu = 3e1 # secondary mass in solar masses\n",
    "a = 0.9 # dimensionless spin of the primary\n",
    "p0 = 6.55 # initial semi-latus rectum\n",
    "e0 = 0.0 # eccentricity is ignored for circular orbits\n",
    "x0 = 1.0  # inclination is ignored for circular orbits\n",
    "qK = 0.8  # polar angle of Kerr spin angular momentum\n",
    "phiK = 0.2  # azimuthal angle of Kerr spin angular momentum\n",
    "qS = 0.3  # polar sky angle\n",
    "phiS = 0.3  # azimuthal sky angle\n",
    "dist = 2.0  # distance to source in Gpc\n",
    "Phi_phi0 = 0.2 # initial azimuthal position of the secondary\n",
    "Phi_theta0 = 0.0 # ignored for circular orbits\n",
    "Phi_r0 = 0.0 # ignored for circular orbits\n",
    "dt = 5.0  # time steps in seconds\n",
    "T = 1.0  # waveform duration in years\n",
    "\n",
    "injection_paramters = [M, mu, a, p0, e0, x0, \n",
    "                       dist, qS, phiS, qK, phiK, \n",
    "                       Phi_phi0, Phi_theta0, Phi_r0, \n",
    "                       dt, T]"
   ]
  },
  {
   "cell_type": "code",
   "execution_count": 11,
   "metadata": {},
   "outputs": [],
   "source": [
    "R = 5e-3\n",
    "h = kerr_gen_mod(*injection_paramters, R)\n",
    "h_GR = kerr_gen_GR(*injection_paramters)"
   ]
  },
  {
   "cell_type": "code",
   "execution_count": null,
   "metadata": {},
   "outputs": [],
   "source": [
    "plt.plot(h.real[-1000:])\n",
    "plt.plot(h_GR.real[-1000:])\n",
    "plt.show()"
   ]
  },
  {
   "cell_type": "code",
   "execution_count": null,
   "metadata": {},
   "outputs": [],
   "source": []
  }
 ],
 "metadata": {
  "kernelspec": {
   "display_name": "full-env",
   "language": "python",
   "name": "python3"
  },
  "language_info": {
   "codemirror_mode": {
    "name": "ipython",
    "version": 3
   },
   "file_extension": ".py",
   "mimetype": "text/x-python",
   "name": "python",
   "nbconvert_exporter": "python",
   "pygments_lexer": "ipython3",
   "version": "3.10.12"
  },
  "orig_nbformat": 4,
  "vscode": {
   "interpreter": {
    "hash": "5046dd278bd9b99f2571d1145493fdd695bb04c8c23877305f7d9ebf063c8edf"
   }
  }
 },
 "nbformat": 4,
 "nbformat_minor": 2
}
